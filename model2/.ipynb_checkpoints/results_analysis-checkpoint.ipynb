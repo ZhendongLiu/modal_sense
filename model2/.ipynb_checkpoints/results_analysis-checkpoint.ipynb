{
 "cells": [
  {
   "cell_type": "code",
   "execution_count": 1,
   "metadata": {},
   "outputs": [],
   "source": [
    "import torch\n",
    "from torch import nn\n",
    "torch.manual_seed(0)\n",
    "import random\n",
    "random.seed(0)\n",
    "from transformers import BertTokenizer, BertModel\n",
    "from util import *\n",
    "from loss_functions import *\n",
    "from models import *\n",
    "from loss_functions import *\n",
    "import numpy as np\n",
    "import sys\n",
    "import time\n",
    "import umap\n",
    "import umap.plot\n",
    "import json\n",
    "import pandas as pd"
   ]
  },
  {
   "cell_type": "code",
   "execution_count": 2,
   "metadata": {},
   "outputs": [],
   "source": [
    "def load_model(model, config_path, model_path):\n",
    "    config = json.load(open(config_path,'r'))\n",
    "    gen_config = config['generator']\n",
    "    generator = modal(gen_config['k_assignment'],\n",
    "                      gen_config['token_dim'],\n",
    "                      gen_config['hid_dim'],\n",
    "                      gen_config['sense_dim'],\n",
    "                      gen_config['modals'],\n",
    "                      gen_config['sub_module_use_mlp'],\n",
    "                      'cpu'\n",
    "                     )\n",
    "    generator.load_state_dict(torch.load(model_path))\n",
    "    return generator"
   ]
  },
  {
   "cell_type": "code",
   "execution_count": null,
   "metadata": {},
   "outputs": [],
   "source": [
    "generator1 = load_model(Mapping_and_Centroids, 'configs/config1.json')"
   ]
  }
 ],
 "metadata": {
  "kernelspec": {
   "display_name": "Python 3",
   "language": "python",
   "name": "python3"
  },
  "language_info": {
   "codemirror_mode": {
    "name": "ipython",
    "version": 3
   },
   "file_extension": ".py",
   "mimetype": "text/x-python",
   "name": "python",
   "nbconvert_exporter": "python",
   "pygments_lexer": "ipython3",
   "version": "3.8.5"
  }
 },
 "nbformat": 4,
 "nbformat_minor": 1
}
